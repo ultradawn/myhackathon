{
    "metadata": {
        "kernelspec": {
            "language": "python", 
            "display_name": "Python 3.5 (Experimental) with Spark 2.1", 
            "name": "python3-spark21"
        }, 
        "language_info": {
            "version": "3.5.2", 
            "nbconvert_exporter": "python", 
            "codemirror_mode": {
                "version": 3, 
                "name": "ipython"
            }, 
            "mimetype": "text/x-python", 
            "name": "python", 
            "pygments_lexer": "ipython3", 
            "file_extension": ".py"
        }
    }, 
    "nbformat": 4, 
    "cells": [
        {
            "execution_count": 83, 
            "metadata": {
                "collapsed": true
            }, 
            "cell_type": "code", 
            "outputs": [], 
            "source": "#coding:utf-8\nimport nltk"
        }, 
        {
            "execution_count": 84, 
            "metadata": {
                "collapsed": true
            }, 
            "cell_type": "code", 
            "outputs": [], 
            "source": "# nltk.download()"
        }, 
        {
            "execution_count": 85, 
            "metadata": {}, 
            "cell_type": "code", 
            "outputs": [
                {
                    "output_type": "stream", 
                    "name": "stdout", 
                    "text": "Requirement already satisfied (use --upgrade to upgrade): lda in /gpfs/global_fs01/sym_shared/YPProdSpark/user/sf31-bf990ab5b3efba-4276a445e7a2/.local/lib/python3.5/site-packages\nRequirement already satisfied (use --upgrade to upgrade): numpy<2.0,>=1.6.1 in /usr/local/src/conda3_runtime.v21/4.1.1/lib/python3.5/site-packages (from lda)\nRequirement already satisfied (use --upgrade to upgrade): pbr>=0.6 in /usr/local/src/conda3_runtime.v21/4.1.1/lib/python3.5/site-packages (from lda)\nRequirement already satisfied (use --upgrade to upgrade): nltk in /usr/local/src/conda3_runtime.v21/4.1.1/lib/python3.5/site-packages\n"
                }
            ], 
            "source": "# The code was removed by DSX for sharing."
        }, 
        {
            "execution_count": 86, 
            "metadata": {}, 
            "cell_type": "code", 
            "outputs": [
                {
                    "output_type": "stream", 
                    "name": "stdout", 
                    "text": "\u9884\u5904\u7406\u540e\uff1a ['Agile Office', 'CDL \u529e\u516c\u5ba4\u7ba1\u7406 \u6311\u6218 \u5de5\u4f5c\u65e5 \u5c0f\u670b\u53cb \u5bb6\u957f \u5b66\u6821 \u5c0f\u670b\u53cb \u6210\u5e74\u4eba \u5bb6\u957f \u95ee\u9898 \u5b9e\u9a8c\u5ba4 \u5de5\u4f5c\u73af\u5883 \u6027\u8d28 security \u8981\u6c42 \u5c0f\u670b\u53cb \u5c0f\u670b\u53cb \u540c\u4e8b \u5de5\u4f5c \u5c0f\u670b\u53cb \u529e\u516c\u8bbe\u5907 \u60c5\u51b5 \u6295\u5f71\u5e55\u5e03 \u9a6c\u514b\u7b14 \u5c0f\u670b\u53cb \u529e\u516c\u533a \u6d3b\u52a8 \u5b89\u5168\u9690\u60a3 \u95ee\u9898 \u770b\u6cd5 \u5efa\u8bae', '\u5de5\u7a0b\u5e08 \u65e5\u5e38\u751f\u6d3b \u6539\u53d8 e g \u5de5\u4f5c\u6001\u5ea6 \u793e\u4ea4\u6d3b\u52a8 \u751f\u6d3b\u4e60\u60ef \u521b\u65b0\u601d\u8003', 'Dear IBMer IBM \u4e1a\u754c \u5dc5\u5cf0 mind help IBM top company industry', '\u9879\u76ee \u5b66\u4e60 \u6280\u672f \u65f6\u95f4', 'IBM \u8f6c\u578b \u6210\u529f \u6280\u672f \u5ba2\u6237\u9700\u6c42', '\u5de5\u7a0b\u5e08\u6587\u5316 \u524d \u8bcd \u81ea\u7531 \u6548\u7387 \u5e73\u7b49 \u5c0a\u91cd \u4fe1\u4efb \u521b\u65b0 \u6d41\u7a0b \u89e3\u51b3\u95ee\u9898 \u5bfc\u5411', 'Whitewater \u5de5\u5177', '\u5de5\u4f5c\u73af\u5883 \u6539\u53d8', 'IBM \u6280\u672f \u5bfc\u5411', '\u4ea7\u54c1 \u9879\u76ee \u4eba\u624d \u6210\u529f \u5e02\u573a \u4ea7\u54c1\u7ecf\u7406 \u6280\u672f \u5f00\u53d1 \u6d4b\u8bd5 \u8fd0\u7ef4 \u9500\u552e', 'Lab \u5de5\u4f5c \u5fc3\u60c5', 'IT \u4ea7\u4e1a \u53d8\u9769 IBM \u8f6c\u578b IBMer \u4ea7\u54c1 \u9879\u76ee \u52aa\u529b \u8f6c\u53d8 \u4ea7\u54c1 \u6210\u529f CDL \u8f6c\u578b \u6210\u529f IBM \u8f6c\u578b \u6210\u529f', '\u5de5\u4f5c \u8f6c\u53d8 Transformation \u804c\u4e1a\u89c4\u5212 \u8f6c\u53d8 \u77e5\u8bc6\u6280\u80fd\u4f53\u7cfb \u5de5\u4f5c\u4e60\u60ef \u6c9f\u901a\u7ba1\u7406\u65b9\u5f0f \u65b9\u9762 \u8f6c\u53d8', '\u6280\u672f \u6280\u672f', 'love IBM', 'ideas team building Sep enjoy BJ autumn', '\u56e2\u961f\u6c1b\u56f4 \u6fc0\u60c5 \u5185\u5fc3\u7684\u58f0\u97f3 \u56e2\u961f\u6210\u5458 \u52a8\u80fd \u611f\u89c9 \u56e2\u961f \u56e2\u961f \u5c71 \u91ce\u708a \u7bee\u7403 \u8db3\u7403 OK \u6280\u672f\u96be\u9898 \u5ba2\u6237 \u9886\u5bfc \u516c\u53f8\u9884\u7b97 \u6d3b\u52a8 \u9700\u6c42 AA \u94b1 \u4e8b', 'IBM \u539f\u56e0', 'API \u95ee\u9898 \u6d3b\u52a8 culture transformation \u611f\u89c9', '\u5f00\u6e90\u8f6f\u4ef6 \u4f01\u4e1a \u6539\u53d8', '\u5de5\u4f5c\u6a21\u5f0f', 'David Kenny TownHall Powerpoint', '\u529f\u80fd \u8868\u5355 submit \u5355\u9009\u6846 \u6587\u5b57 etc', 'work hate', 'OSPF \u7cfb\u7edf \u6539\u8fdb', 'Pls recommend technology skill development approach', 'Agile workspace \u6709\u5473', '\u5de5\u4f5c \u6280\u672f', 'Jam', '\u673a\u4f1a \u6280\u672f \u5f00\u53d1', '\u7a0b\u5e8f \u751f\u547d \u91cd\u6784 \u4ee3\u7801', '\u65f6 \u5c0f\u4e8b', '\u516c\u53f8 \u7ba1\u7406\u5c42 BUE CDL CDL \u5916', '\u5f00\u4f1a\u538c\u70e6\u75c7 \u539f\u56e0', '\u5f00\u6e90\u9879\u76ee Tomcat Hibernate Spring jQuery etc', '\u56e2\u961f \u58eb\u6c14', '\u9879\u76ee \u4eba \u5de5\u4f5c', '\u56e2\u961f \u6280\u672f\u65b9\u6848 \u8ba8\u8bba', 'updates stand meeting', 'OpenWhisk', '\u5de5\u4f5c \u539f\u56e0', 'API \u6279\u91cf \u95ee\u9898 \u6210\u529f', '\u6e90\u4ee3\u7801 \u5b89\u5168\u6027 \u5efa\u8bae \u529e\u6cd5', '\u4e0b\u5348\u8336 \u79cd\u7c7b \u516c\u53f8', '\u4ea7\u54c1 \u6280\u672f', '\u5145\u6ee1\u70ed\u60c5', 'IBM \u6210\u529f', '\u5c0f\u5b69 \u516c\u53f8 \u6d3b\u529b', 'thing work past months', '\u753b\u8d28 FC \u7ea2\u767d\u673a \u6e38\u620f', 'AI \u6982\u5ff5 \u5de5\u4f5c', '', 'invention disclosure \u610f\u4e49', 'money part company part company', '\u5de5\u4f5c \u5c0f\u786e\u5e78', '\u8f6c\u578b \u8fc7\u7a0b PM \u89d2\u8272 \u8f6c\u53d8', 'sessions', '\u516c\u53f8 \u7ba1\u7406\u5c42 BUE CDL CDL \u5916 stop', '\u5b66\u4e60 \u6280\u672f \u5b66\u4e60 \u539f\u56e0', 'study plan topic', '\u5de5\u4f5c\u91cf\u5206\u914d \u529e\u6cd5 \u5de5\u65f6 \u521b\u65b0 \u65f6\u95f4 \u4e2a\u4eba\u65f6\u95f4 \u521b\u65b0', 'sMash Project Zero', 'Did learn skill year', 'Is environment', '\u77e5\u8bc6', '\u9879\u76ee \u5f00\u53d1 tool defect RTC Git Bugzilla', '\u7535\u8111 \u7535\u8111', '\u6280\u672f \u5916\u754c', '\u6280\u672f \u5b66\u4e60', 'IBM \u6539\u53d8 \u6587\u5316', '\u5de5\u4f5c \u6210\u5c31\u611f \u4e8b', 'IBM \u6539\u53d8 \u6587\u5316', 'API \u95ee\u9898 \u6d3b\u52a8 culture transformation \u611f\u89c9', 'comprises organization culture', 'TVT defect GVT \u5c11 TVT pass Agile \u9879\u76ee TVT', 'IBM person fear', 'activity taste leverage API OpenWhisk', 'Community \u8f6c\u578b', '\u6280\u672f', 'Team \u5b66\u4e60 \u5de5\u4f5c \u8ba4\u77e5 \u4e91\u8ba1\u7b97\u6280\u672f', '\u4f18\u52bf BU \u4e0d\u8db3 \u5efa\u8bae', 'spend', 'activity taste leverage API OpenWhisk']\n"
                }
            ], 
            "source": "#\u9884\u5904\u7406\n#\u6839\u636e\u5206\u8bcd\u7ed3\u679c\u8c03\u6574jieba\nadd_list = np.array(pd.read_csv(get_object_storage_file('MyHackathon', 'add_list.csv')))\n\nfor item in add_list:\n    jieba.add_word(item[0],tag=item[1])\n\n# \u53bb\u9664\u505c\u7528\u8bcd\u5e76\u7b5b\u9009\u51fa\u540d\u8bcd\nclean_words=[]\nps = PorterStemmer()\nfor line in question:\n    seg = jieba.posseg.cut(line[0])\n    for j in seg:\n        if j.flag!='eng'and j.word not in stop_words and j.flag == 'n':   \n            clean_words.append(j.word)\n        elif j.flag=='eng' and j.word not in stopwords.words('english') :\n            eng_tag=nltk.pos_tag(nltk.word_tokenize(j.word))\n            for w,pos in eng_tag:\n                if pos.startswith('NN'):\n                    clean_words.append(w)    \ncorpus=[]                   \nfor line in question:\n    #\u5206\u8bcd\n    seg_generator = jieba.cut(line[0])\n    #\u7b5b\u51fastop word\n    seg_list = [i for i in seg_generator if i in clean_words]\n    seg_list = r' '.join(seg_list)\n    corpus.append(seg_list.strip())\nprint (\"\u9884\u5904\u7406\u540e\uff1a\",corpus)"
        }, 
        {
            "execution_count": 87, 
            "metadata": {
                "scrolled": true
            }, 
            "cell_type": "code", 
            "outputs": [
                {
                    "output_type": "stream", 
                    "name": "stdout", 
                    "text": "\u6240\u6709\u8bcd\u8bed ['aa', 'activity', 'agile', 'ai', 'api', 'approach', 'bj', 'bu', 'bue', 'bugzilla', 'cdl', 'community', 'company', 'culture', 'defect', 'development', 'disclosure', 'environment', 'fc', 'fear', 'git', 'gvt', 'hibernate', 'ibm', 'ibmer', 'ideas', 'industry', 'invention', 'it', 'jam', 'jquery', 'lab', 'learn', 'meeting', 'mind', 'money', 'office', 'openwhisk', 'organization', 'ospf', 'person', 'plan', 'pm', 'powerpoint', 'project', 'rtc', 'security', 'sessions', 'skill', 'smash', 'spring', 'study', 'team', 'technology', 'tomcat', 'tool', 'topic', 'townhall', 'transformation', 'tvt', 'whitewater', 'work', 'workspace', 'zero', '\u4e0b\u5348\u8336', '\u4e0d\u8db3', '\u4e1a\u754c', '\u4e2a\u4eba\u65f6\u95f4', '\u4e91\u8ba1\u7b97\u6280\u672f', '\u4ea7\u4e1a', '\u4ea7\u54c1', '\u4ea7\u54c1\u7ecf\u7406', '\u4eba\u624d', '\u4ee3\u7801', '\u4f01\u4e1a', '\u4f18\u52bf', '\u4fe1\u4efb', '\u5145\u6ee1\u70ed\u60c5', '\u516c\u53f8', '\u516c\u53f8\u9884\u7b97', '\u5185\u5fc3\u7684\u58f0\u97f3', '\u521b\u65b0', '\u521b\u65b0\u601d\u8003', '\u529e\u516c\u533a', '\u529e\u516c\u5ba4\u7ba1\u7406', '\u529e\u516c\u8bbe\u5907', '\u529e\u6cd5', '\u529f\u80fd', '\u52a8\u80fd', '\u52aa\u529b', '\u5355\u9009\u6846', '\u539f\u56e0', '\u53d8\u9769', '\u540c\u4e8b', '\u56e2\u961f', '\u56e2\u961f\u6210\u5458', '\u56e2\u961f\u6c1b\u56f4', '\u58eb\u6c14', '\u5916\u754c', '\u5b66\u4e60', '\u5b66\u6821', '\u5b89\u5168\u6027', '\u5b89\u5168\u9690\u60a3', '\u5b9e\u9a8c\u5ba4', '\u5ba2\u6237', '\u5ba2\u6237\u9700\u6c42', '\u5bb6\u957f', '\u5bfc\u5411', '\u5c0a\u91cd', '\u5c0f\u4e8b', '\u5c0f\u5b69', '\u5c0f\u670b\u53cb', '\u5c0f\u786e\u5e78', '\u5dc5\u5cf0', '\u5de5\u4f5c', '\u5de5\u4f5c\u4e60\u60ef', '\u5de5\u4f5c\u6001\u5ea6', '\u5de5\u4f5c\u65e5', '\u5de5\u4f5c\u6a21\u5f0f', '\u5de5\u4f5c\u73af\u5883', '\u5de5\u4f5c\u91cf\u5206\u914d', '\u5de5\u5177', '\u5de5\u65f6', '\u5de5\u7a0b\u5e08', '\u5de5\u7a0b\u5e08\u6587\u5316', '\u5e02\u573a', '\u5e73\u7b49', '\u5efa\u8bae', '\u5f00\u4f1a\u538c\u70e6\u75c7', '\u5f00\u53d1', '\u5f00\u6e90\u8f6f\u4ef6', '\u5f00\u6e90\u9879\u76ee', '\u5fc3\u60c5', '\u6027\u8d28', '\u60c5\u51b5', '\u610f\u4e49', '\u611f\u89c9', '\u6210\u529f', '\u6210\u5c31\u611f', '\u6210\u5e74\u4eba', '\u6279\u91cf', '\u6280\u672f', '\u6280\u672f\u65b9\u6848', '\u6280\u672f\u96be\u9898', '\u6295\u5f71\u5e55\u5e03', '\u6311\u6218', '\u6539\u53d8', '\u6539\u8fdb', '\u6548\u7387', '\u6587\u5316', '\u6587\u5b57', '\u65b9\u9762', '\u65e5\u5e38\u751f\u6d3b', '\u65f6\u95f4', '\u6709\u5473', '\u673a\u4f1a', '\u6982\u5ff5', '\u6c9f\u901a\u7ba1\u7406\u65b9\u5f0f', '\u6d3b\u529b', '\u6d3b\u52a8', '\u6d41\u7a0b', '\u6d4b\u8bd5', '\u6e38\u620f', '\u6e90\u4ee3\u7801', '\u6fc0\u60c5', '\u751f\u547d', '\u751f\u6d3b\u4e60\u60ef', '\u7535\u8111', '\u753b\u8d28', '\u770b\u6cd5', '\u77e5\u8bc6', '\u77e5\u8bc6\u6280\u80fd\u4f53\u7cfb', '\u793e\u4ea4\u6d3b\u52a8', '\u79cd\u7c7b', '\u7a0b\u5e8f', '\u7ba1\u7406\u5c42', '\u7bee\u7403', '\u7cfb\u7edf', '\u7ea2\u767d\u673a', '\u804c\u4e1a\u89c4\u5212', '\u81ea\u7531', '\u8868\u5355', '\u8981\u6c42', '\u89d2\u8272', '\u89e3\u51b3\u95ee\u9898', '\u8ba4\u77e5', '\u8ba8\u8bba', '\u8db3\u7403', '\u8f6c\u53d8', '\u8f6c\u578b', '\u8fc7\u7a0b', '\u8fd0\u7ef4', '\u91cd\u6784', '\u91ce\u708a', '\u9500\u552e', '\u95ee\u9898', '\u9700\u6c42', '\u9879\u76ee', '\u9886\u5bfc', '\u9a6c\u514b\u7b14']\n\u8bcd\u9891\u77e9\u9635 [[0 0 1 ..., 0 0 0]\n [0 0 0 ..., 0 0 1]\n [0 0 0 ..., 0 0 0]\n ..., \n [0 0 0 ..., 0 0 0]\n [0 0 0 ..., 0 0 0]\n [0 1 0 ..., 0 0 0]]\n"
                }
            ], 
            "source": "#\u8bcd\u9891\u77e9\u9635\nstop_words=[]\nstop_list=np.array(pd.read_csv(get_object_storage_file('MyHackathon', 'stop_list.csv')))\nfor item in stop_list:\n    stop_words.append(item[0])\n    \nvectorizer = CountVectorizer(stop_words=stop_words)\n#fit_transform\u662f\u5c06\u6587\u672c\u8f6c\u4e3a\u8bcd\u9891\u77e9\u9635\nX = vectorizer.fit_transform(corpus)\n#\u83b7\u53d6\u8bcd\u888b\u6a21\u578b\u4e2d\u7684\u6240\u6709\u8bcd\u8bed\nword = vectorizer.get_feature_names()\nprint (\"\u6240\u6709\u8bcd\u8bed\",word)\nweight = X.toarray()\nprint(\"\u8bcd\u9891\u77e9\u9635\",weight)"
        }, 
        {
            "execution_count": 88, 
            "metadata": {}, 
            "cell_type": "code", 
            "outputs": [
                {
                    "output_type": "stream", 
                    "name": "stderr", 
                    "text": "INFO:lda:n_documents: 84\nINFO:lda:vocab_size: 200\nINFO:lda:n_words: 328\nINFO:lda:n_topics: 10\nINFO:lda:n_iter: 1500\nWARNING:lda:all zero row in document-term matrix found\nINFO:lda:<0> log likelihood: -3623\nINFO:lda:<10> log likelihood: -2845\nINFO:lda:<20> log likelihood: -2831\nINFO:lda:<30> log likelihood: -2836\nINFO:lda:<40> log likelihood: -2829\nINFO:lda:<50> log likelihood: -2849\nINFO:lda:<60> log likelihood: -2833\nINFO:lda:<70> log likelihood: -2829\nINFO:lda:<80> log likelihood: -2830\nINFO:lda:<90> log likelihood: -2827\nINFO:lda:<100> log likelihood: -2827\nINFO:lda:<110> log likelihood: -2834\nINFO:lda:<120> log likelihood: -2853\nINFO:lda:<130> log likelihood: -2828\nINFO:lda:<140> log likelihood: -2834\nINFO:lda:<150> log likelihood: -2827\nINFO:lda:<160> log likelihood: -2826\nINFO:lda:<170> log likelihood: -2828\nINFO:lda:<180> log likelihood: -2836\nINFO:lda:<190> log likelihood: -2825\nINFO:lda:<200> log likelihood: -2834\nINFO:lda:<210> log likelihood: -2831\nINFO:lda:<220> log likelihood: -2820\nINFO:lda:<230> log likelihood: -2832\nINFO:lda:<240> log likelihood: -2826\nINFO:lda:<250> log likelihood: -2825\nINFO:lda:<260> log likelihood: -2827\nINFO:lda:<270> log likelihood: -2827\nINFO:lda:<280> log likelihood: -2843\nINFO:lda:<290> log likelihood: -2827\nINFO:lda:<300> log likelihood: -2826\nINFO:lda:<310> log likelihood: -2834\nINFO:lda:<320> log likelihood: -2824\nINFO:lda:<330> log likelihood: -2825\nINFO:lda:<340> log likelihood: -2822\nINFO:lda:<350> log likelihood: -2848\nINFO:lda:<360> log likelihood: -2849\nINFO:lda:<370> log likelihood: -2826\nINFO:lda:<380> log likelihood: -2830\nINFO:lda:<390> log likelihood: -2840\nINFO:lda:<400> log likelihood: -2839\nINFO:lda:<410> log likelihood: -2828\nINFO:lda:<420> log likelihood: -2851\nINFO:lda:<430> log likelihood: -2826\nINFO:lda:<440> log likelihood: -2838\nINFO:lda:<450> log likelihood: -2836\nINFO:lda:<460> log likelihood: -2834\nINFO:lda:<470> log likelihood: -2832\nINFO:lda:<480> log likelihood: -2842\nINFO:lda:<490> log likelihood: -2830\nINFO:lda:<500> log likelihood: -2824\nINFO:lda:<510> log likelihood: -2825\nINFO:lda:<520> log likelihood: -2835\nINFO:lda:<530> log likelihood: -2828\nINFO:lda:<540> log likelihood: -2822\nINFO:lda:<550> log likelihood: -2826\nINFO:lda:<560> log likelihood: -2827\nINFO:lda:<570> log likelihood: -2824\nINFO:lda:<580> log likelihood: -2826\nINFO:lda:<590> log likelihood: -2839\nINFO:lda:<600> log likelihood: -2840\nINFO:lda:<610> log likelihood: -2857\nINFO:lda:<620> log likelihood: -2837\nINFO:lda:<630> log likelihood: -2825\nINFO:lda:<640> log likelihood: -2841\nINFO:lda:<650> log likelihood: -2837\nINFO:lda:<660> log likelihood: -2825\nINFO:lda:<670> log likelihood: -2823\nINFO:lda:<680> log likelihood: -2839\nINFO:lda:<690> log likelihood: -2834\nINFO:lda:<700> log likelihood: -2838\nINFO:lda:<710> log likelihood: -2833\nINFO:lda:<720> log likelihood: -2826\nINFO:lda:<730> log likelihood: -2826\nINFO:lda:<740> log likelihood: -2827\nINFO:lda:<750> log likelihood: -2827\nINFO:lda:<760> log likelihood: -2824\nINFO:lda:<770> log likelihood: -2831\nINFO:lda:<780> log likelihood: -2824\nINFO:lda:<790> log likelihood: -2820\nINFO:lda:<800> log likelihood: -2826\nINFO:lda:<810> log likelihood: -2835\nINFO:lda:<820> log likelihood: -2823\nINFO:lda:<830> log likelihood: -2835\nINFO:lda:<840> log likelihood: -2827\nINFO:lda:<850> log likelihood: -2831\nINFO:lda:<860> log likelihood: -2830\nINFO:lda:<870> log likelihood: -2823\nINFO:lda:<880> log likelihood: -2835\nINFO:lda:<890> log likelihood: -2841\nINFO:lda:<900> log likelihood: -2835\nINFO:lda:<910> log likelihood: -2836\nINFO:lda:<920> log likelihood: -2835\nINFO:lda:<930> log likelihood: -2829\nINFO:lda:<940> log likelihood: -2828\nINFO:lda:<950> log likelihood: -2830\nINFO:lda:<960> log likelihood: -2824\nINFO:lda:<970> log likelihood: -2856\nINFO:lda:<980> log likelihood: -2837\nINFO:lda:<990> log likelihood: -2839\nINFO:lda:<1000> log likelihood: -2839\nINFO:lda:<1010> log likelihood: -2824\nINFO:lda:<1020> log likelihood: -2838\nINFO:lda:<1030> log likelihood: -2842\nINFO:lda:<1040> log likelihood: -2829\nINFO:lda:<1050> log likelihood: -2840\nINFO:lda:<1060> log likelihood: -2831\nINFO:lda:<1070> log likelihood: -2826\nINFO:lda:<1080> log likelihood: -2847\nINFO:lda:<1090> log likelihood: -2832\nINFO:lda:<1100> log likelihood: -2828\nINFO:lda:<1110> log likelihood: -2831\nINFO:lda:<1120> log likelihood: -2826\nINFO:lda:<1130> log likelihood: -2826\nINFO:lda:<1140> log likelihood: -2828\nINFO:lda:<1150> log likelihood: -2832\nINFO:lda:<1160> log likelihood: -2824\nINFO:lda:<1170> log likelihood: -2826\nINFO:lda:<1180> log likelihood: -2826\nINFO:lda:<1190> log likelihood: -2834\nINFO:lda:<1200> log likelihood: -2832\nINFO:lda:<1210> log likelihood: -2828\nINFO:lda:<1220> log likelihood: -2844\nINFO:lda:<1230> log likelihood: -2831\nINFO:lda:<1240> log likelihood: -2827\nINFO:lda:<1250> log likelihood: -2860\nINFO:lda:<1260> log likelihood: -2828\nINFO:lda:<1270> log likelihood: -2842\nINFO:lda:<1280> log likelihood: -2829\nINFO:lda:<1290> log likelihood: -2826\nINFO:lda:<1300> log likelihood: -2827\nINFO:lda:<1310> log likelihood: -2824\nINFO:lda:<1320> log likelihood: -2826\nINFO:lda:<1330> log likelihood: -2835\nINFO:lda:<1340> log likelihood: -2837\nINFO:lda:<1350> log likelihood: -2830\nINFO:lda:<1360> log likelihood: -2832\nINFO:lda:<1370> log likelihood: -2833\nINFO:lda:<1380> log likelihood: -2842\nINFO:lda:<1390> log likelihood: -2830\nINFO:lda:<1400> log likelihood: -2830\nINFO:lda:<1410> log likelihood: -2843\nINFO:lda:<1420> log likelihood: -2836\nINFO:lda:<1430> log likelihood: -2830\nINFO:lda:<1440> log likelihood: -2835\nINFO:lda:<1450> log likelihood: -2843\nINFO:lda:<1460> log likelihood: -2830\nINFO:lda:<1470> log likelihood: -2838\nINFO:lda:<1480> log likelihood: -2852\nINFO:lda:<1490> log likelihood: -2854\nINFO:lda:<1499> log likelihood: -2838\n"
                }, 
                {
                    "execution_count": 88, 
                    "metadata": {}, 
                    "data": {
                        "text/plain": "<lda.lda.LDA at 0x7f87841992e8>"
                    }, 
                    "output_type": "execute_result"
                }
            ], 
            "source": "#\u5efa\u7acb\u6a21\u578b,10\u4e2a\u4e3b\u9898,\u8fed\u4ee31500\u6b21,\u8d85\u53c2\u6570\u03b1\u03b2\u5206\u522b\u4e3a50/T+1\u3001200/W\ntopic_num=10\nword_num=len(word)\nmodel=lda.LDA(n_topics=topic_num, n_iter=1500, random_state=1,alpha=(50.0/topic_num)+1,eta=0.001)\nX=np.asarray(weight)\nmodel.fit(X)"
        }, 
        {
            "execution_count": null, 
            "metadata": {
                "collapsed": true
            }, 
            "cell_type": "code", 
            "outputs": [], 
            "source": ""
        }, 
        {
            "execution_count": 91, 
            "metadata": {}, 
            "cell_type": "code", 
            "outputs": [
                {
                    "output_type": "stream", 
                    "name": "stdout", 
                    "text": "0.0971116504854\n0.268844086022\n0.198708609272\n0.369346590909\n0.137020547945\n0.231821192053\n0.21280141844\n0.165773480663\n0.331519337017\n0.114541984733\n"
                }
            ], 
            "source": "topic_word = model.topic_word_ \nn = 3\n# print(\"\u4e3b\u9898-\u5355\u8bcd\u5206\u5e03\u77e9\u9635:\")\n# for index , value in enumerate(topic_word):\n#     print(value)\n#\u8f93\u51fa\u5355\u8bcd\u4e3b\u9898\u4e2d\u7684TopN\u5173\u952e\u8bcd\nword = vectorizer.get_feature_names()\n\ntopic_words_list = []\nfor i, topic_dist in enumerate(topic_word):\n    print (max(topic_dist))\n#     topic_words = np.array(word)[np.argsort(topic_dist)][:-(n+1):-1]\n#     topic_words_list.append(' '.join(topic_words))\n    \n# print(\"\u4e3b\u9898-\u5355\u8bcd\u5206\u5e03\u77e9\u9635,\u53d6confidence\u7684\u524d2\u4e2a\u5355\u8bcd:\")\n# for index , value in enumerate(topic_words_list):\n#     print(\"topic_words%d: \"%index, value)"
        }, 
        {
            "execution_count": 94, 
            "metadata": {}, 
            "cell_type": "code", 
            "outputs": [
                {
                    "output_type": "stream", 
                    "name": "stdout", 
                    "text": "\u6587\u6863-\u4e3b\u9898\u5206\u5e03\u5bf9\u5e94\u7684\u8bcd\u4e3b\u9898\u5206\u5e03:\n['\u9a6c\u514b\u7b14 \u9886\u5bfc', '\u9a6c\u514b\u7b14 \u9886\u5bfc', '\u9a6c\u514b\u7b14 \u9886\u5bfc', '\u9a6c\u514b\u7b14 \u9886\u5bfc', '\u9a6c\u514b\u7b14 \u9886\u5bfc', '\u9a6c\u514b\u7b14 \u9886\u5bfc', '\u9a6c\u514b\u7b14 \u9886\u5bfc', '\u9a6c\u514b\u7b14 \u9886\u5bfc', '\u9a6c\u514b\u7b14 \u9886\u5bfc', '\u9a6c\u514b\u7b14 \u9886\u5bfc', '\u9a6c\u514b\u7b14 \u9886\u5bfc', '\u9a6c\u514b\u7b14 \u9886\u5bfc', '\u9a6c\u514b\u7b14 \u9886\u5bfc', '\u9a6c\u514b\u7b14 \u9886\u5bfc', '\u9a6c\u514b\u7b14 \u9886\u5bfc', '\u9a6c\u514b\u7b14 \u9886\u5bfc', '\u9a6c\u514b\u7b14 \u9886\u5bfc', '\u9a6c\u514b\u7b14 \u9886\u5bfc', '\u9a6c\u514b\u7b14 \u9886\u5bfc', '\u9a6c\u514b\u7b14 \u9886\u5bfc', '\u9a6c\u514b\u7b14 \u9886\u5bfc', '\u9a6c\u514b\u7b14 \u9886\u5bfc', '\u9a6c\u514b\u7b14 \u9886\u5bfc', '\u9a6c\u514b\u7b14 \u9886\u5bfc', '\u9a6c\u514b\u7b14 \u9886\u5bfc', '\u9a6c\u514b\u7b14 \u9886\u5bfc', '\u9a6c\u514b\u7b14 \u9886\u5bfc', '\u9a6c\u514b\u7b14 \u9886\u5bfc', '\u9a6c\u514b\u7b14 \u9886\u5bfc', '\u9a6c\u514b\u7b14 \u9886\u5bfc', '\u9a6c\u514b\u7b14 \u9886\u5bfc', '\u9a6c\u514b\u7b14 \u9886\u5bfc', '\u9a6c\u514b\u7b14 \u9886\u5bfc', '\u9a6c\u514b\u7b14 \u9886\u5bfc', '\u9a6c\u514b\u7b14 \u9886\u5bfc', '\u9a6c\u514b\u7b14 \u9886\u5bfc', '\u9a6c\u514b\u7b14 \u9886\u5bfc', '\u9a6c\u514b\u7b14 \u9886\u5bfc', '\u9a6c\u514b\u7b14 \u9886\u5bfc', '\u9a6c\u514b\u7b14 \u9886\u5bfc', '\u9a6c\u514b\u7b14 \u9886\u5bfc', '\u9a6c\u514b\u7b14 \u9886\u5bfc', '\u9a6c\u514b\u7b14 \u9886\u5bfc', '\u9a6c\u514b\u7b14 \u9886\u5bfc', '\u9a6c\u514b\u7b14 \u9886\u5bfc', '\u9a6c\u514b\u7b14 \u9886\u5bfc', '\u9a6c\u514b\u7b14 \u9886\u5bfc', '\u9a6c\u514b\u7b14 \u9886\u5bfc', '\u9a6c\u514b\u7b14 \u9886\u5bfc', '\u9a6c\u514b\u7b14 \u9886\u5bfc', '\u9a6c\u514b\u7b14 \u9886\u5bfc', '\u9a6c\u514b\u7b14 \u9886\u5bfc', '\u9a6c\u514b\u7b14 \u9886\u5bfc', '\u9a6c\u514b\u7b14 \u9886\u5bfc', '\u9a6c\u514b\u7b14 \u9886\u5bfc', '\u9a6c\u514b\u7b14 \u9886\u5bfc', '\u9a6c\u514b\u7b14 \u9886\u5bfc', '\u9a6c\u514b\u7b14 \u9886\u5bfc', '\u9a6c\u514b\u7b14 \u9886\u5bfc', '\u9a6c\u514b\u7b14 \u9886\u5bfc', '\u9a6c\u514b\u7b14 \u9886\u5bfc', '\u9a6c\u514b\u7b14 \u9886\u5bfc', '\u9a6c\u514b\u7b14 \u9886\u5bfc', '\u9a6c\u514b\u7b14 \u9886\u5bfc', '\u9a6c\u514b\u7b14 \u9886\u5bfc', '\u9a6c\u514b\u7b14 \u9886\u5bfc', '\u9a6c\u514b\u7b14 \u9886\u5bfc', '\u9a6c\u514b\u7b14 \u9886\u5bfc', '\u9a6c\u514b\u7b14 \u9886\u5bfc', '\u9a6c\u514b\u7b14 \u9886\u5bfc', '\u9a6c\u514b\u7b14 \u9886\u5bfc', '\u9a6c\u514b\u7b14 \u9886\u5bfc', '\u9a6c\u514b\u7b14 \u9886\u5bfc', '\u9a6c\u514b\u7b14 \u9886\u5bfc', '\u9a6c\u514b\u7b14 \u9886\u5bfc', '\u9a6c\u514b\u7b14 \u9886\u5bfc', '\u9a6c\u514b\u7b14 \u9886\u5bfc', '\u9a6c\u514b\u7b14 \u9886\u5bfc', '\u9a6c\u514b\u7b14 \u9886\u5bfc', '\u9a6c\u514b\u7b14 \u9886\u5bfc', '\u9a6c\u514b\u7b14 \u9886\u5bfc', '\u9a6c\u514b\u7b14 \u9886\u5bfc', '\u9a6c\u514b\u7b14 \u9886\u5bfc', '\u9a6c\u514b\u7b14 \u9886\u5bfc']\n"
                }
            ], 
            "source": "#\u6587\u6863-\u4e3b\u9898\u5206\u5e03\ndoc_topic = model.doc_topic_\n# print(\"\u6587\u6863-\u4e3b\u9898\u5206\u5e03\u77e9\u9635:\")\n# for index , value in enumerate(doc_topic):\n#     print(value)\n\ndoc_topic_list = []\n\nprint(\"\u6587\u6863-\u4e3b\u9898\u5206\u5e03\u5bf9\u5e94\u7684\u8bcd\u4e3b\u9898\u5206\u5e03:\")\ntopic_num=2\nfor i in range(len(doc_topic)):\n    #\u6587\u6863-\u4e3b\u9898\u5206\u5e03\u4e2d\u6700\u5927\u7684\u8bcd\u4e3b\u9898\u5206\u5e03\uff1a\u6bcf\u7bc7\u6587\u6863\u5bf9\u5e94\u4e00\u4e2a\u4e3b\u9898\n    doc_topics = np.array(word)[np.argsort(topic_dist)][:-(topic_num+1):-1]    \n    doc_topic_list.append(' '.join(doc_topics))\n\nprint (doc_topic_list)\n    \n#     max_topic = doc_topic[i].argmax()\n#     print (doc_topic[i])\n#     print(\"doc_topic%d: \"%i, \"   topic_word %d\"%max_topic)\n#     doc_topic_list.append(topic_words_list[max_topic])\n# print(\"\u6587\u6863-\u4e3b\u9898\u5206\u5e03\u77e9\u9635,\u62df\u5408\u4e3b\u9898\u8bcd\u77e9\u9635\u540e:\")\n# for index , value in enumerate(doc_topic_list):\n# #      print(\"doc_topic%d: \"%index, value)  \n#      print(value)   "
        }, 
        {
            "execution_count": null, 
            "metadata": {
                "collapsed": true
            }, 
            "cell_type": "code", 
            "outputs": [], 
            "source": ""
        }
    ], 
    "nbformat_minor": 1
}